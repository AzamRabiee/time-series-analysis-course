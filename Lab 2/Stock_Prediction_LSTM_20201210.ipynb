{
  "nbformat": 4,
  "nbformat_minor": 0,
  "metadata": {
    "kernelspec": {
      "language": "python",
      "display_name": "Python 3",
      "name": "python3"
    },
    "language_info": {
      "pygments_lexer": "ipython3",
      "nbconvert_exporter": "python",
      "version": "3.6.4",
      "file_extension": ".py",
      "codemirror_mode": {
        "name": "ipython",
        "version": 3
      },
      "name": "python",
      "mimetype": "text/x-python"
    },
    "colab": {
      "name": "Stock-Prediction-LSTM_20201210.ipynb",
      "provenance": [],
      "collapsed_sections": [],
      "toc_visible": true
    },
    "accelerator": "GPU"
  },
  "cells": [
    {
      "cell_type": "markdown",
      "metadata": {
        "id": "CebeluuoAiDu"
      },
      "source": [
        "#Stock Price Prediction using LSTM in PyTorch\n",
        "Stock price information is a type of time-series data. Both neural and non-neural approaches are helpful for analyzing that kind of data. The approaches for modeling the time-series data are also known as **Sequence Modeling** techniques.\n",
        "\n",
        "In this code, we use Long Short Term Memeory, known as **LSTM**, for modeling the stock price. Thus, we can predict the stock price for the future using the recurrent neural network.\n",
        "\n",
        "**Note:** We would like to run this code on GPU. If you are using colab, check out the **Change Runtime Type** option in the **Runtime** menu, right above this text, to make sure that you are using a GPU on Google Colab. \n",
        "\n",
        "#YOUR_JOB\n",
        "\n",
        "Please complete the code denoted by **#YOUR_JOB** according to the comments."
      ]
    },
    {
      "cell_type": "code",
      "metadata": {
        "_uuid": "8f2839f25d086af736a60e9eeb907d3b93b6e0e5",
        "_cell_guid": "b1076dfc-b9ad-4769-8c92-a6c4dae69d19",
        "trusted": true,
        "id": "J5CMa9OTYLwm"
      },
      "source": [
        "import numpy as np                          \n",
        "import pandas as pd   \n",
        "import matplotlib.pyplot as plt\n",
        "import seaborn as sns\n",
        "from sklearn.preprocessing import MinMaxScaler\n",
        "import torch\n",
        "import torch.nn as nn\n",
        "from time import time"
      ],
      "execution_count": null,
      "outputs": []
    },
    {
      "cell_type": "markdown",
      "metadata": {
        "id": "eey05rPwCBlC"
      },
      "source": [
        "# 1. Data\n",
        "We import the dataset using pandas package.We use Amazon Stock Price dataset, named `AMZN_2006-01-01_to_2018-01-01.csv` from [**kaggle DJIA 30 Stock Time Series**](https://www.kaggle.com/szrlee/stock-time-series-20050101-to-20171231). Don't forget to upload it to the colab machine first. "
      ]
    },
    {
      "cell_type": "code",
      "metadata": {
        "trusted": true,
        "id": "izmMPxLCYLwm"
      },
      "source": [
        "print(\"Getting data ...\")\n",
        "\n",
        "data = pd.read_csv(\"AMZN_2006-01-01_to_2018-01-01.csv\")\n",
        "print(\"Data is ready.\")\n",
        "\n",
        "data.head()"
      ],
      "execution_count": null,
      "outputs": []
    },
    {
      "cell_type": "markdown",
      "metadata": {
        "id": "DQ4N8Bt7y9i_"
      },
      "source": [
        "#### 1.1. Plots\n",
        "The raw dataset contains `Date`, `Open`, `High`, `Low`, `Close`, `Volume`, and `Name`. We use the close value for the modeling task. We plot the closing price and its autocorrelation here."
      ]
    },
    {
      "cell_type": "code",
      "metadata": {
        "trusted": true,
        "id": "0W4HbdYJYLwm"
      },
      "source": [
        "sns.set_style(\"darkgrid\")\n",
        "plt.figure(figsize = (15,9))\n",
        "plt.plot(data[['Close']])\n",
        "plt.xticks(range(0,data.shape[0],500),data['Date'].loc[::500],rotation=45)\n",
        "plt.title(\"Amazon Stock Price\",fontsize=18, fontweight='bold')\n",
        "plt.xlabel('Date',fontsize=18)\n",
        "plt.ylabel('Close Price (USD)',fontsize=18)\n",
        "plt.show()"
      ],
      "execution_count": null,
      "outputs": []
    },
    {
      "cell_type": "markdown",
      "metadata": {
        "id": "q31ydB5wYLwm"
      },
      "source": [
        "#### 1.2 Preprocessing"
      ]
    },
    {
      "cell_type": "code",
      "metadata": {
        "trusted": true,
        "id": "xRglhQIQYLwm"
      },
      "source": [
        "price = data[['Close']]\n",
        "price.info()"
      ],
      "execution_count": null,
      "outputs": []
    },
    {
      "cell_type": "markdown",
      "metadata": {
        "id": "QWxvEHU36hyh"
      },
      "source": [
        "**#YOUR_JOB**\n",
        "\n",
        "We should rescale the stock price to [-1, 1]. Use `MinMaxScaler` for the conversion."
      ]
    },
    {
      "cell_type": "code",
      "metadata": {
        "trusted": true,
        "id": "ZUdInSDmYLwn"
      },
      "source": [
        "scaler = #------ YOUR CODE HERE -----------\n",
        "price['Close'] = scaler.fit_transform(price['Close'].values.reshape(-1,1))"
      ],
      "execution_count": null,
      "outputs": []
    },
    {
      "cell_type": "markdown",
      "metadata": {
        "id": "00n_rAGkzRox"
      },
      "source": [
        "#### 1.3. Split Data\n",
        "\n",
        "We should split data into train and test sets. Moreover, remember that the input sequence of length `L` should be converted to a batch of overlapped sequences with length `T` as the input of the model and the same batch size with the length 1 for the output `y`.\n",
        "\n",
        "**#YOUR JOB**\n",
        "In the following cell, we make the train set of the first `train_set_size` samples. The remaining samples would be the test set. Please complete the code for the test set. "
      ]
    },
    {
      "cell_type": "code",
      "metadata": {
        "trusted": true,
        "id": "7aT3UMwkYLwn"
      },
      "source": [
        "def split_data(stock, lookback):\n",
        "    data_raw = stock.to_numpy() # convert to numpy array; [L x 1]\n",
        "    data = []\n",
        "    \n",
        "    # create all possible sequences of length seq_len\n",
        "    for index in range(len(data_raw) - lookback): \n",
        "        data.append(data_raw[index: index + lookback])\n",
        "    \n",
        "    data = np.array(data)                               # [N x lookback x 1]\n",
        "    test_set_size = int(np.round(0.2 * data.shape[0]))\n",
        "    train_set_size = data.shape[0] - test_set_size\n",
        "    \n",
        "    x_train = data[:train_set_size, :-1, :]    # [N_train x T x 1]\n",
        "    y_train = data[:train_set_size, -1, :]     # [N_train x 1 x 1]\n",
        "    \n",
        "    # YOUR_JOB\n",
        "    # make x_test & y_test with the data array,  \n",
        "    # from the index of train_set_size to the end. \n",
        "    x_test = # -------- YOUR CODE HERE ---------\n",
        "    y_test = # -------- YOUR CODE HERE ---------\n",
        "    \n",
        "    return [x_train, y_train, x_test, y_test]"
      ],
      "execution_count": null,
      "outputs": []
    },
    {
      "cell_type": "code",
      "metadata": {
        "trusted": true,
        "id": "x4E136M6YLwn"
      },
      "source": [
        "lookback = 20 # choose sequence length\n",
        "x_train, y_train, x_test, y_test = split_data(price, lookback)\n",
        "print('x_train.shape = ',x_train.shape)\n",
        "print('y_train.shape = ',y_train.shape)\n",
        "print('x_test.shape = ',x_test.shape)\n",
        "print('y_test.shape = ',y_test.shape)"
      ],
      "execution_count": null,
      "outputs": []
    },
    {
      "cell_type": "markdown",
      "metadata": {
        "id": "wNEZpHFmzW6q"
      },
      "source": [
        "# 2. Model"
      ]
    },
    {
      "cell_type": "markdown",
      "metadata": {
        "id": "NO-QXQCSz0Wp"
      },
      "source": [
        "#### 2.1. Hyper-parameters"
      ]
    },
    {
      "cell_type": "code",
      "metadata": {
        "trusted": true,
        "id": "4expRuw6YLwn"
      },
      "source": [
        "input_dim = 1\n",
        "hidden_dim = 32\n",
        "num_layers = 2\n",
        "output_dim = 1\n",
        "num_epochs = 100\n",
        "\n",
        "# specify GPU\n",
        "device = torch.device(\"cuda\")"
      ],
      "execution_count": null,
      "outputs": []
    },
    {
      "cell_type": "markdown",
      "metadata": {
        "id": "nQ_vC3nSz9GG"
      },
      "source": [
        "#### 2.2. LSTM Class\n",
        "\n",
        "We define a class, named `StockPredictor`, for the stock price prediction using LSTM. Since the dimension of the LSTM hidden state is `hidden_dim`, we need to convert it to 1-D data as the prediction output. We overwrite the `__init__`\n",
        " and `forward` procedures as usual.\n",
        "\n",
        "**#YOUR_JOB**\n",
        "\n",
        "The dimensionality convertion from `hidden_dim` to 1-D to make the output prediction can be handled by a linear layer defined as `self.fc` in the following code. Please complete the `forward` function such that the `out` would be to convert the final output with this dimensions: `[N x 1 x 1]`.    "
      ]
    },
    {
      "cell_type": "code",
      "metadata": {
        "trusted": true,
        "id": "OR400YTPYLwn"
      },
      "source": [
        "class StockPredictor(nn.Module):\n",
        "    def __init__(self, input_dim, hidden_dim, num_layers, output_dim):\n",
        "        super(StockPredictor, self).__init__()\n",
        "        self.hidden_dim = hidden_dim\n",
        "        self.num_layers = num_layers\n",
        "        \n",
        "        self.lstm = nn.LSTM(input_dim, hidden_dim, num_layers, batch_first=True)\n",
        "        self.fc = nn.Linear(hidden_dim, output_dim)\n",
        "\n",
        "    def forward(self, x):\n",
        "        out, _ = self.lstm(x)\n",
        "                                                       # in: [N x T x 1]\n",
        "                                                       # out: [N x T x D*n-dir]\n",
        "        \n",
        "        \n",
        "        out = # ----- YOUR CODE HERE ----------- \n",
        "        return out"
      ],
      "execution_count": null,
      "outputs": []
    },
    {
      "cell_type": "code",
      "metadata": {
        "trusted": true,
        "id": "aZT4PCGyYLwn"
      },
      "source": [
        "model = StockPredictor(input_dim, hidden_dim, num_layers, output_dim)\n",
        "\n",
        "# push the model to GPU\n",
        "model = model.to(device)\n",
        "\n",
        "criterion = torch.nn.MSELoss(reduction='mean')\n",
        "optimiser = torch.optim.Adam(model.parameters(), lr=0.01)"
      ],
      "execution_count": null,
      "outputs": []
    },
    {
      "cell_type": "markdown",
      "metadata": {
        "id": "JIsyvGq00Hl5"
      },
      "source": [
        "#### 2.3. Train"
      ]
    },
    {
      "cell_type": "code",
      "metadata": {
        "trusted": true,
        "id": "Vg84raJZYLwn"
      },
      "source": [
        "x_train = torch.from_numpy(x_train).type(torch.Tensor)\n",
        "x_test = torch.from_numpy(x_test).type(torch.Tensor)\n",
        "y_train = torch.from_numpy(y_train).type(torch.Tensor)\n",
        "y_test = torch.from_numpy(y_test).type(torch.Tensor)"
      ],
      "execution_count": null,
      "outputs": []
    },
    {
      "cell_type": "code",
      "metadata": {
        "trusted": true,
        "id": "IuiicersYLwn"
      },
      "source": [
        "hist = np.zeros(num_epochs)\n",
        "start_time = time()\n",
        "\n",
        "for t in range(num_epochs):\n",
        "    y_train_pred = model(x_train.to(device))\n",
        "\n",
        "    loss = criterion(y_train_pred, y_train.to(device))\n",
        "    print(\"Epoch \", t, \"MSE: \", loss.item())\n",
        "    hist[t] = loss.item()\n",
        "\n",
        "    optimiser.zero_grad()\n",
        "    loss.backward()\n",
        "    optimiser.step()\n",
        "    \n",
        "training_time = time() - start_time\n",
        "print(\"Training time: {} min\".format(training_time / 60))"
      ],
      "execution_count": null,
      "outputs": []
    },
    {
      "cell_type": "markdown",
      "metadata": {
        "id": "rcCbegel0pIc"
      },
      "source": [
        "#### 2.4. Plots"
      ]
    },
    {
      "cell_type": "code",
      "metadata": {
        "trusted": true,
        "id": "5_Tjhjl-YLwn"
      },
      "source": [
        "predict = pd.DataFrame(scaler.inverse_transform(y_train_pred.cpu().detach().numpy()))\n",
        "original = pd.DataFrame(scaler.inverse_transform(y_train.numpy()))"
      ],
      "execution_count": null,
      "outputs": []
    },
    {
      "cell_type": "code",
      "metadata": {
        "trusted": true,
        "id": "MW_nXsnsYLwn"
      },
      "source": [
        "sns.set_style(\"darkgrid\")    \n",
        "\n",
        "fig = plt.figure()\n",
        "fig.subplots_adjust(hspace=0.2, wspace=0.2)\n",
        "\n",
        "plt.subplot(1, 2, 1)\n",
        "ax = sns.lineplot(x = original.index, y = original[0], label=\"Data\", color='royalblue')\n",
        "ax = sns.lineplot(x = predict.index, y = predict[0], label=\"Training Prediction (LSTM)\", color='tomato')\n",
        "ax.set_title('Stock price', size = 14, fontweight='bold')\n",
        "ax.set_xlabel(\"Days\", size = 14)\n",
        "ax.set_ylabel(\"Cost (USD)\", size = 14)\n",
        "ax.set_xticklabels('', size=10)\n",
        "\n",
        "\n",
        "plt.subplot(1, 2, 2)\n",
        "ax = sns.lineplot(data=hist, color='royalblue')\n",
        "ax.set_xlabel(\"Epoch\", size = 14)\n",
        "ax.set_ylabel(\"Loss\", size = 14)\n",
        "ax.set_title(\"Training Loss\", size = 14, fontweight='bold')\n",
        "fig.set_figheight(6)\n",
        "fig.set_figwidth(16)"
      ],
      "execution_count": null,
      "outputs": []
    },
    {
      "cell_type": "markdown",
      "metadata": {
        "id": "qavMQNyG0ttP"
      },
      "source": [
        "# 3. Evaluation"
      ]
    },
    {
      "cell_type": "code",
      "metadata": {
        "trusted": true,
        "id": "dThyeYCwYLwn",
        "colab": {
          "base_uri": "https://localhost:8080/"
        },
        "outputId": "4b0ae832-f8ce-49bb-f6f3-70a87a375c11"
      },
      "source": [
        "import math, time\n",
        "from sklearn.metrics import mean_squared_error\n",
        "\n",
        "# make predictions\n",
        "y_test_pred = model(x_test.to(device))\n",
        "\n",
        "# invert predictions\n",
        "y_train_pred = scaler.inverse_transform(y_train_pred.cpu().detach().numpy())\n",
        "y_train = scaler.inverse_transform(y_train.numpy())\n",
        "y_test_pred = scaler.inverse_transform(y_test_pred.cpu().detach().numpy())\n",
        "y_test = scaler.inverse_transform(y_test.numpy())\n",
        "\n",
        "# calculate root mean squared error\n",
        "trainScore = math.sqrt(mean_squared_error(y_train[:,0], y_train_pred[:,0]))\n",
        "print('Train Score: %.2f RMSE' % (trainScore))\n",
        "testScore = math.sqrt(mean_squared_error(y_test[:,0], y_test_pred[:,0]))\n",
        "print('Test Score: %.2f RMSE' % (testScore))"
      ],
      "execution_count": null,
      "outputs": [
        {
          "output_type": "stream",
          "text": [
            "Train Score: 9.62 RMSE\n",
            "Test Score: 227.11 RMSE\n"
          ],
          "name": "stdout"
        }
      ]
    },
    {
      "cell_type": "code",
      "metadata": {
        "trusted": true,
        "id": "HUKqDBMFYLwn"
      },
      "source": [
        "# shift train predictions for plotting\n",
        "trainPredictPlot = np.empty_like(price)\n",
        "trainPredictPlot[:, :] = np.nan\n",
        "trainPredictPlot[lookback:len(y_train_pred)+lookback, :] = y_train_pred\n",
        "\n",
        "# shift test predictions for plotting\n",
        "testPredictPlot = np.empty_like(price)\n",
        "testPredictPlot[:, :] = np.nan\n",
        "testPredictPlot[len(y_train_pred)+lookback-1:len(price)-1, :] = y_test_pred\n",
        "\n",
        "original = scaler.inverse_transform(price['Close'].values.reshape(-1,1))\n",
        "\n",
        "predictions = np.append(trainPredictPlot, testPredictPlot, axis=1)\n",
        "predictions = np.append(predictions, original, axis=1)\n",
        "result = pd.DataFrame(predictions)\n",
        "result.head()"
      ],
      "execution_count": null,
      "outputs": []
    },
    {
      "cell_type": "code",
      "metadata": {
        "trusted": true,
        "id": "PKWkzfdeYLwn"
      },
      "source": [
        "import plotly.express as px\n",
        "import plotly.graph_objects as go\n",
        "\n",
        "fig = go.Figure()\n",
        "fig.add_trace(go.Scatter(go.Scatter(x=result.index, y=result[0],\n",
        "                    mode='lines',\n",
        "                    name='Train prediction')))\n",
        "fig.add_trace(go.Scatter(x=result.index, y=result[1],\n",
        "                    mode='lines',\n",
        "                    name='Test prediction'))\n",
        "fig.add_trace(go.Scatter(go.Scatter(x=result.index, y=result[2],\n",
        "                    mode='lines',\n",
        "                    name='Actual Value')))\n",
        "fig.update_layout(\n",
        "    xaxis=dict(\n",
        "        showline=True,\n",
        "        showgrid=True,\n",
        "        showticklabels=False,\n",
        "        linecolor='white',\n",
        "        linewidth=2\n",
        "    ),\n",
        "    yaxis=dict(\n",
        "        title_text='Close (USD)',\n",
        "        titlefont=dict(\n",
        "            family='Rockwell',\n",
        "            size=12,\n",
        "            color='white',\n",
        "        ),\n",
        "        showline=True,\n",
        "        showgrid=True,\n",
        "        showticklabels=True,\n",
        "        linecolor='white',\n",
        "        linewidth=2,\n",
        "        ticks='outside',\n",
        "        tickfont=dict(\n",
        "            family='Rockwell',\n",
        "            size=12,\n",
        "            color='white',\n",
        "        ),\n",
        "    ),\n",
        "    showlegend=True,\n",
        "    template = 'plotly_dark'\n",
        "\n",
        ")\n",
        "\n",
        "\n",
        "\n",
        "annotations = []\n",
        "annotations.append(dict(xref='paper', yref='paper', x=0.0, y=1.05,\n",
        "                              xanchor='left', yanchor='bottom',\n",
        "                              text='Results (LSTM)',\n",
        "                              font=dict(family='Rockwell',\n",
        "                                        size=26,\n",
        "                                        color='white'),\n",
        "                              showarrow=False))\n",
        "fig.update_layout(annotations=annotations)\n",
        "\n",
        "fig.show()"
      ],
      "execution_count": null,
      "outputs": []
    },
    {
      "cell_type": "code",
      "metadata": {
        "id": "MRTGKfl-qOsU"
      },
      "source": [
        ""
      ],
      "execution_count": null,
      "outputs": []
    }
  ]
}